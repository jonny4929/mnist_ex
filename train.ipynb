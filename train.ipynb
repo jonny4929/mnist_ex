{
 "metadata": {
  "language_info": {
   "codemirror_mode": {
    "name": "ipython",
    "version": 3
   },
   "file_extension": ".py",
   "mimetype": "text/x-python",
   "name": "python",
   "nbconvert_exporter": "python",
   "pygments_lexer": "ipython3",
   "version": "3.7.7-final"
  },
  "orig_nbformat": 2,
  "kernelspec": {
   "name": "python37764bitwscondacd08d14c6ce04c3b97cef72ad2db920e",
   "display_name": "Python 3.7.7 64-bit ('ws': conda)"
  }
 },
 "nbformat": 4,
 "nbformat_minor": 2,
 "cells": [
  {
   "cell_type": "code",
   "execution_count": 5,
   "metadata": {},
   "outputs": [
    {
     "output_type": "stream",
     "name": "stdout",
     "text": [
      "mkdir: cannot create directory ‘datasets’: File exists\n",
      "mkdir: cannot create directory ‘checkpoints’: File exists\n",
      "epoch  0: loss=0.2700 ,acc:91.84% \n",
      "epoch  1: loss=0.1648 ,acc:95.47% \n",
      "Traceback (most recent call last):\n",
      "  File \"train.py\", line 107, in <module>\n",
      "    train(args)\n",
      "  File \"train.py\", line 80, in train\n",
      "    eval_acc=eval(args,net)\n",
      "  File \"train.py\", line 102, in eval\n",
      "    print(\"eval acc=%.2f%%\" %total_acc/len(test_data)*100)\n",
      "TypeError: unsupported operand type(s) for /: 'str' and 'int'\n"
     ]
    }
   ],
   "source": [
    "! mkdir datasets\n",
    "! mkdir checkpoints"
   ]
  },
  {
   "cell_type": "code",
   "execution_count": 16,
   "metadata": {},
   "outputs": [
    {
     "output_type": "stream",
     "name": "stdout",
     "text": [
      "epoch  0: loss=0.2441 ,acc:92.79% \n",
      "epoch  1: loss=0.0971 ,acc:96.97% \n",
      "eval acc=97.11%\n",
      "epoch  2: loss=0.0687 ,acc:97.81% \n",
      "epoch  3: loss=0.0517 ,acc:98.39% \n",
      "eval acc=97.74%\n",
      "epoch  4: loss=0.0400 ,acc:98.67% \n",
      "epoch  5: loss=0.0339 ,acc:98.88% \n",
      "eval acc=97.97%\n",
      "epoch  6: loss=0.0283 ,acc:99.11% \n",
      "epoch  7: loss=0.0251 ,acc:99.22% \n",
      "eval acc=98.04%\n",
      "epoch  8: loss=0.0229 ,acc:99.28% \n",
      "epoch  9: loss=0.0205 ,acc:99.34% \n",
      "eval acc=97.90%\n",
      "epoch 10: loss=0.0175 ,acc:99.44% \n",
      "epoch 11: loss=0.0166 ,acc:99.48% \n",
      "eval acc=98.02%\n",
      "epoch 12: loss=0.0144 ,acc:99.52% \n",
      "epoch 13: loss=0.0145 ,acc:99.57% \n",
      "eval acc=98.11%\n",
      "epoch 14: loss=0.0123 ,acc:99.61% \n",
      "epoch 15: loss=0.0125 ,acc:99.64% \n",
      "eval acc=98.28%\n",
      "epoch 16: loss=0.0117 ,acc:99.65% \n",
      "epoch 17: loss=0.0111 ,acc:99.66% \n",
      "eval acc=98.15%\n",
      "epoch 18: loss=0.0102 ,acc:99.69% \n",
      "epoch 19: loss=0.0099 ,acc:99.72% \n",
      "eval acc=98.13%\n",
      "epoch 20: loss=0.0099 ,acc:99.73% \n",
      "epoch 21: loss=0.0104 ,acc:99.70% \n",
      "eval acc=98.38%\n",
      "epoch 22: loss=0.0097 ,acc:99.73% \n",
      "epoch 23: loss=0.0101 ,acc:99.73% \n",
      "eval acc=98.19%\n",
      "epoch 24: loss=0.0083 ,acc:99.75% \n",
      "epoch 25: loss=0.0080 ,acc:99.78% \n",
      "eval acc=98.35%\n",
      "epoch 26: loss=0.0094 ,acc:99.75% \n",
      "epoch 27: loss=0.0083 ,acc:99.79% \n",
      "eval acc=98.24%\n",
      "epoch 28: loss=0.0101 ,acc:99.75% \n",
      "epoch 29: loss=0.0092 ,acc:99.79% \n",
      "eval acc=98.38%\n",
      "epoch 30: loss=0.0082 ,acc:99.79% \n",
      "epoch 31: loss=0.0092 ,acc:99.81% \n",
      "eval acc=98.24%\n",
      "epoch 32: loss=0.0077 ,acc:99.80% \n",
      "epoch 33: loss=0.0074 ,acc:99.83% \n",
      "eval acc=98.03%\n",
      "epoch 34: loss=0.0075 ,acc:99.83% \n",
      "epoch 35: loss=0.0082 ,acc:99.82% \n",
      "eval acc=98.12%\n",
      "epoch 36: loss=0.0055 ,acc:99.84% \n",
      "epoch 37: loss=0.0070 ,acc:99.85% \n",
      "eval acc=98.11%\n",
      "epoch 38: loss=0.0077 ,acc:99.82% \n",
      "epoch 39: loss=0.0074 ,acc:99.81% \n",
      "eval acc=98.17%\n",
      "epoch 40: loss=0.0072 ,acc:99.86% \n",
      "epoch 41: loss=0.0066 ,acc:99.84% \n",
      "eval acc=98.13%\n",
      "epoch 42: loss=0.0075 ,acc:99.84% \n",
      "epoch 43: loss=0.0071 ,acc:99.85% \n",
      "eval acc=98.54%\n",
      "epoch 44: loss=0.0047 ,acc:99.89% \n",
      "epoch 45: loss=0.0064 ,acc:99.86% \n",
      "eval acc=98.20%\n",
      "epoch 46: loss=0.0074 ,acc:99.85% \n",
      "epoch 47: loss=0.0074 ,acc:99.88% \n",
      "eval acc=98.07%\n",
      "epoch 48: loss=0.0047 ,acc:99.91% \n",
      "epoch 49: loss=0.0071 ,acc:99.86% \n",
      "eval acc=98.35%\n"
     ]
    }
   ],
   "source": [
    "! python train.py --lr 0.0001 --epoch 50"
   ]
  },
  {
   "cell_type": "code",
   "execution_count": 10,
   "metadata": {},
   "outputs": [
    {
     "output_type": "execute_result",
     "data": {
      "text/plain": [
       "0.7943282347242815"
      ]
     },
     "metadata": {},
     "execution_count": 10
    }
   ],
   "source": [
    "0.1**0.1"
   ]
  },
  {
   "cell_type": "code",
   "execution_count": 13,
   "metadata": {},
   "outputs": [
    {
     "output_type": "stream",
     "name": "stdout",
     "text": [
      "(2, 3, 4) {'x': 1, 'xx': 2}\n"
     ]
    }
   ],
   "source": [
    "def a(*args,**kwargs):\n",
    "    print(args,kwargs)\n",
    "def b(*args,**kwargs):\n",
    "    a(*args,**kwargs)\n",
    "b(2,3,4,x=1,xx=2)"
   ]
  },
  {
   "cell_type": "code",
   "execution_count": null,
   "metadata": {},
   "outputs": [],
   "source": []
  }
 ]
}