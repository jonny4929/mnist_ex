{
 "metadata": {
  "language_info": {
   "codemirror_mode": {
    "name": "ipython",
    "version": 3
   },
   "file_extension": ".py",
   "mimetype": "text/x-python",
   "name": "python",
   "nbconvert_exporter": "python",
   "pygments_lexer": "ipython3",
   "version": "3.7.7-final"
  },
  "orig_nbformat": 2,
  "kernelspec": {
   "name": "python37764bitwscondacd08d14c6ce04c3b97cef72ad2db920e",
   "display_name": "Python 3.7.7 64-bit ('ws': conda)"
  }
 },
 "nbformat": 4,
 "nbformat_minor": 2,
 "cells": [
  {
   "cell_type": "code",
   "execution_count": 2,
   "metadata": {},
   "outputs": [
    {
     "output_type": "stream",
     "name": "stdout",
     "text": [
      "mkdir: cannot create directory ‘datasets’: File exists\n",
      "mkdir: cannot create directory ‘checkpoints’: File exists\n"
     ]
    }
   ],
   "source": [
    "! mkdir datasets\n",
    "! mkdir checkpoints"
   ]
  },
  {
   "cell_type": "code",
   "execution_count": 8,
   "metadata": {},
   "outputs": [
    {
     "output_type": "stream",
     "name": "stdout",
     "text": [
      "epoch  0: loss=0.2340 ,acc:93.93% \n",
      "eval acc=97.73%\n",
      "epoch  1: loss=0.0932 ,acc:97.74% \n",
      "eval acc=98.19%\n",
      "epoch  2: loss=0.0635 ,acc:98.39% \n",
      "eval acc=98.62%\n",
      "epoch  3: loss=0.0494 ,acc:98.75% \n",
      "eval acc=98.64%\n",
      "epoch  4: loss=0.0424 ,acc:98.92% \n",
      "eval acc=98.92%\n",
      "epoch  5: loss=0.0378 ,acc:99.06% \n",
      "eval acc=98.94%\n",
      "epoch  6: loss=0.0321 ,acc:99.28% \n",
      "eval acc=98.99%\n",
      "epoch  7: loss=0.0281 ,acc:99.28% \n",
      "eval acc=99.05%\n",
      "epoch  8: loss=0.0270 ,acc:99.37% \n",
      "eval acc=98.87%\n",
      "epoch  9: loss=0.0246 ,acc:99.46% \n",
      "eval acc=98.49%\n",
      "epoch 10: loss=0.0254 ,acc:99.39% \n",
      "eval acc=98.50%\n",
      "epoch 11: loss=0.0207 ,acc:99.53% \n",
      "eval acc=98.99%\n",
      "epoch 12: loss=0.0214 ,acc:99.53% \n",
      "eval acc=98.89%\n",
      "epoch 13: loss=0.0190 ,acc:99.60% \n",
      "eval acc=99.08%\n",
      "epoch 14: loss=0.0211 ,acc:99.58% \n",
      "eval acc=98.80%\n",
      "epoch 15: loss=0.0198 ,acc:99.61% \n",
      "eval acc=99.04%\n",
      "epoch 16: loss=0.0182 ,acc:99.67% \n",
      "eval acc=98.84%\n",
      "epoch 17: loss=0.0207 ,acc:99.66% \n",
      "eval acc=99.06%\n",
      "epoch 18: loss=0.0201 ,acc:99.61% \n",
      "eval acc=98.95%\n",
      "epoch 19: loss=0.0153 ,acc:99.67% \n",
      "eval acc=99.03%\n"
     ]
    }
   ],
   "source": [
    "! python train.py --model resnet --lr 0.0001 --epoch 20"
   ]
  },
  {
   "cell_type": "code",
   "execution_count": null,
   "metadata": {},
   "outputs": [],
   "source": []
  }
 ]
}