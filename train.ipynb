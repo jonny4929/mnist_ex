{
 "metadata": {
  "language_info": {
   "codemirror_mode": {
    "name": "ipython",
    "version": 3
   },
   "file_extension": ".py",
   "mimetype": "text/x-python",
   "name": "python",
   "nbconvert_exporter": "python",
   "pygments_lexer": "ipython3",
   "version": "3.7.9-final"
  },
  "orig_nbformat": 2,
  "kernelspec": {
   "name": "Python 3.7.9 64-bit ('ws2': conda)",
   "display_name": "Python 3.7.9 64-bit ('ws2': conda)",
   "metadata": {
    "interpreter": {
     "hash": "6dc8e3347654b71bcc8fa14c42a64192d81771aea4c5271684de75059aa0f998"
    }
   }
  }
 },
 "nbformat": 4,
 "nbformat_minor": 2,
 "cells": [
  {
   "cell_type": "code",
   "execution_count": 1,
   "metadata": {},
   "outputs": [],
   "source": [
    "import torch,torchvision\n",
    "import torch.nn as nn\n",
    "import torchvision.transforms as T\n",
    "from model.model import DNN"
   ]
  },
  {
   "cell_type": "code",
   "execution_count": 2,
   "metadata": {},
   "outputs": [],
   "source": [
    "transformer=T.Compose([\n",
    "    T.ToTensor(),\n",
    "    T.Normalize((0.3081),(0.1307))\n",
    "])\n",
    "train_data=torchvision.datasets.MNIST(root='./datasets',transform=transformer,download=True,train=True)\n",
    "test_data=torchvision.datasets.MNIST(root='./datasets',transform=transformer,train=False)\n",
    "train_loader=torch.utils.data.DataLoader(train_data,batch_size=16,shuffle=True,drop_last=True)\n",
    "test_loader=torch.utils.data.DataLoader(test_data,batch_size=16,shuffle=True,drop_last=True)"
   ]
  },
  {
   "cell_type": "code",
   "execution_count": 3,
   "metadata": {},
   "outputs": [],
   "source": [
    "model=DNN()\n",
    "optimizer=torch.optim.Adam(model.parameters(),lr=0.0001,betas=(0.9,0.99))"
   ]
  },
  {
   "cell_type": "code",
   "execution_count": 6,
   "metadata": {},
   "outputs": [
    {
     "output_type": "stream",
     "name": "stdout",
     "text": [
      "epoch 0: loss=0.1721 ,acc:43.92 % \n",
      "epoch 1: loss=0.0903 ,acc:64.27 % \n",
      "epoch 2: loss=0.0661 ,acc:71.33 % \n",
      "epoch 3: loss=0.0510 ,acc:76.64 % \n",
      "epoch 4: loss=0.0399 ,acc:80.85 % \n",
      "epoch 5: loss=0.0341 ,acc:83.95 % \n",
      "epoch 6: loss=0.0287 ,acc:85.60 % \n",
      "epoch 7: loss=0.0239 ,acc:88.37 % \n",
      "epoch 8: loss=0.0221 ,acc:89.87 % \n",
      "epoch 9: loss=0.0192 ,acc:90.59 % \n"
     ]
    }
   ],
   "source": [
    "for epoch in range(10):\n",
    "    total_loss=0.\n",
    "    total_acc=0.\n",
    "    for images,labels in train_loader:\n",
    "        output=model(images)\n",
    "        loss=nn.functional.cross_entropy(output,labels)\n",
    "        optimizer.zero_grad()\n",
    "        loss.backward()\n",
    "        optimizer.step()\n",
    "        total_loss+=loss\n",
    "        total_acc+=sum(labels==output.argmax(-1))//labels.shape[0]\n",
    "    print(\"epoch %d: loss=%.4f ,acc:%.2f %% \" %(epoch,total_loss/len(train_loader),total_acc*100/len(train_loader)))\n"
   ]
  },
  {
   "cell_type": "code",
   "execution_count": 5,
   "metadata": {},
   "outputs": [
    {
     "output_type": "stream",
     "name": "stdout",
     "text": [
      "epoch 0: loss=0.0917 ,acc:2.03 % \n"
     ]
    }
   ],
   "source": [
    "print(\"epoch %d: loss=%.4f ,acc:%.2f %% \" %(epoch,total_loss/len(train_loader),total_acc*100/len(train_loader)))"
   ]
  },
  {
   "cell_type": "code",
   "execution_count": null,
   "metadata": {},
   "outputs": [],
   "source": []
  },
  {
   "cell_type": "code",
   "execution_count": null,
   "metadata": {},
   "outputs": [],
   "source": []
  }
 ]
}